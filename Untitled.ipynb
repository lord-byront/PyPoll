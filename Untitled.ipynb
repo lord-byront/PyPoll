{
 "cells": [
  {
   "cell_type": "code",
   "execution_count": 27,
   "id": "299e71de-9c78-4d34-a492-6344fccdf5a6",
   "metadata": {},
   "outputs": [],
   "source": [
    "# -*- coding: UTF-8 -*-\n",
    "\"\"\"PyPoll Homework Starter File.\"\"\"\n",
    "\n",
    "# Import necessary modules\n",
    "import csv\n",
    "import os\n",
    "\n",
    "# Files to load and output (update with correct file paths)\n",
    "file_to_load = os.path.join(\"Resources\", \"election_data.csv\")  # Input file path\n",
    "file_to_output = os.path.join(\"analysis\", \"election_analysis.txt\")  # Output file path"
   ]
  },
  {
   "cell_type": "code",
   "execution_count": 28,
   "id": "aeae9765-d5a5-4d5c-936a-c97ff2f4b736",
   "metadata": {},
   "outputs": [],
   "source": [
    "# Initialize variables to track the election data\n",
    "total_votes = 0  # Track the total number of votes cast\n"
   ]
  },
  {
   "cell_type": "code",
   "execution_count": 29,
   "id": "6365ed2d-81ee-4ad1-9371-e1d51cc9fb44",
   "metadata": {},
   "outputs": [],
   "source": [
    "# Define lists and dictionaries to track candidate names and vote counts\n",
    "\n",
    "\n",
    "Ballot_ID = []\n",
    "County = []\n",
    "Candidate = []\n",
    "Candidate_count = []\n",
    "\n",
    "\n",
    "# Winning Candidate and Winning Count Tracker\n",
    "\n",
    "Winner = \"\"\n",
    "Winn_count = 0\n"
   ]
  },
  {
   "cell_type": "code",
   "execution_count": 32,
   "id": "d2ff9876-0540-4a60-94ed-26e67ca6f100",
   "metadata": {},
   "outputs": [
    {
     "name": "stdout",
     "output_type": "stream",
     "text": [
      "['Charles Casper Stockham', 255639]\n",
      "['Diana DeGette', 818676]\n",
      "['Raymon Anthony Doane', 34818]\n",
      "['Charles Casper Stockham', 'Diana DeGette', 'Raymon Anthony Doane']\n"
     ]
    }
   ],
   "source": [
    "# Open the CSV file and process it\n",
    "with open(file_to_load) as election_data:\n",
    "    reader = csv.reader(election_data)\n",
    "\n",
    "\n",
    "    # Skip the header row\n",
    "    header = next(reader)\n",
    "\n",
    "    # Loop through each row of the dataset and process it\n",
    "    for row in reader:\n",
    "\n",
    "        # Print a loading indicator (for large datasets)\n",
    "        #print(\". \", end=\"\")\n",
    "\n",
    "        # Increment the total vote count for each row\n",
    "\n",
    "        total_votes = total_votes + 1\n",
    "\n",
    "\n",
    "        # Get the candidate's name from the row\n",
    "\n",
    "        candidate_value = row[2]\n",
    "\n",
    "\n",
    "        # If the candidate is not already in the candidate list, add them\n",
    "        \n",
    "        Candidate.append(candidate_value) if candidate_value not in Candidate else \"\"\n",
    "\n",
    "        # Add a vote to the candidate's count\n",
    "\n",
    "        Candidate_count.append(candidate_value)\n",
    "\n",
    "        \n",
    "    for i in Candidate:\n",
    "        x = Candidate_count.count(i)\n",
    "        print([i,x])\n",
    "        \n",
    "        \n"
   ]
  },
  {
   "cell_type": "code",
   "execution_count": null,
   "id": "23685fab-90dd-42bc-a5d9-dcd1abb88872",
   "metadata": {},
   "outputs": [],
   "source": []
  },
  {
   "cell_type": "code",
   "execution_count": null,
   "id": "e1c3b735-ab76-48b7-b722-6a994d032d77",
   "metadata": {},
   "outputs": [],
   "source": []
  },
  {
   "cell_type": "code",
   "execution_count": null,
   "id": "8be855f6-c544-42cd-b9a2-1855db5ad054",
   "metadata": {},
   "outputs": [],
   "source": []
  },
  {
   "cell_type": "code",
   "execution_count": null,
   "id": "7fc16df3-3dae-4ea9-b14f-6009c8ea12ec",
   "metadata": {},
   "outputs": [],
   "source": []
  }
 ],
 "metadata": {
  "kernelspec": {
   "display_name": "Python 3 (ipykernel)",
   "language": "python",
   "name": "python3"
  },
  "language_info": {
   "codemirror_mode": {
    "name": "ipython",
    "version": 3
   },
   "file_extension": ".py",
   "mimetype": "text/x-python",
   "name": "python",
   "nbconvert_exporter": "python",
   "pygments_lexer": "ipython3",
   "version": "3.10.15"
  }
 },
 "nbformat": 4,
 "nbformat_minor": 5
}
